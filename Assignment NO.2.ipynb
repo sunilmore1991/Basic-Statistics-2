{
 "cells": [
  {
   "cell_type": "markdown",
   "id": "b6054fce",
   "metadata": {},
   "source": [
    "# Assignment No.2"
   ]
  },
  {
   "cell_type": "markdown",
   "id": "532fe17a",
   "metadata": {},
   "source": [
    "# Q1"
   ]
  },
  {
   "cell_type": "code",
   "execution_count": 2,
   "id": "9331a0cf",
   "metadata": {},
   "outputs": [],
   "source": [
    "import pandas as pd\n",
    "import numpy as np\n",
    "import matplotlib.pyplot as plt\n",
    "import seaborn as sns\n",
    "from scipy import stats"
   ]
  },
  {
   "cell_type": "code",
   "execution_count": 3,
   "id": "c1db3e66",
   "metadata": {},
   "outputs": [],
   "source": [
    "values=24.23,25.53,25.41,24.14,29.62,28.25,25.81,24.39,40.26,32.95,91.36,25.99,39.42,26.71,35"
   ]
  },
  {
   "cell_type": "code",
   "execution_count": 4,
   "id": "1907c13f",
   "metadata": {},
   "outputs": [],
   "source": [
    "Names = ['Allied Signal','Bankers Trust','General Mills','ITT Industries','J.P.Morgan & Co.','Lehman Brothers',\n",
    "      'Marriott','MCI','Merrill Lynch','Microsoft','Morgan Stanley','Sun Microsystems','Travelers','US Airways',\n",
    "      'Warner-Lambert']"
   ]
  },
  {
   "cell_type": "code",
   "execution_count": 7,
   "id": "caebd6b3",
   "metadata": {},
   "outputs": [
    {
     "data": {
      "text/plain": [
       "33.27133333333333"
      ]
     },
     "execution_count": 7,
     "metadata": {},
     "output_type": "execute_result"
    }
   ],
   "source": [
    "np.mean(values)"
   ]
  },
  {
   "cell_type": "code",
   "execution_count": 8,
   "id": "96af9586",
   "metadata": {},
   "outputs": [
    {
     "data": {
      "text/plain": [
       "16.370812590976932"
      ]
     },
     "execution_count": 8,
     "metadata": {},
     "output_type": "execute_result"
    }
   ],
   "source": [
    "np.std(values)"
   ]
  },
  {
   "cell_type": "code",
   "execution_count": 9,
   "id": "04c40c74",
   "metadata": {},
   "outputs": [
    {
     "data": {
      "text/plain": [
       "268.00350488888887"
      ]
     },
     "execution_count": 9,
     "metadata": {},
     "output_type": "execute_result"
    }
   ],
   "source": [
    "np.var(values)"
   ]
  },
  {
   "cell_type": "code",
   "execution_count": 10,
   "id": "370af914",
   "metadata": {},
   "outputs": [
    {
     "data": {
      "text/plain": [
       "['Allied Signal',\n",
       " 'Bankers Trust',\n",
       " 'General Mills',\n",
       " 'ITT Industries',\n",
       " 'J.P.Morgan & Co.',\n",
       " 'Lehman Brothers',\n",
       " 'Marriott',\n",
       " 'MCI',\n",
       " 'Merrill Lynch',\n",
       " 'Microsoft',\n",
       " 'Morgan Stanley',\n",
       " 'Sun Microsystems',\n",
       " 'Travelers',\n",
       " 'US Airways',\n",
       " 'Warner-Lambert']"
      ]
     },
     "execution_count": 10,
     "metadata": {},
     "output_type": "execute_result"
    }
   ],
   "source": [
    "Names"
   ]
  },
  {
   "cell_type": "code",
   "execution_count": 11,
   "id": "1b5db271",
   "metadata": {},
   "outputs": [
    {
     "data": {
      "text/plain": [
       "(24.23,\n",
       " 25.53,\n",
       " 25.41,\n",
       " 24.14,\n",
       " 29.62,\n",
       " 28.25,\n",
       " 25.81,\n",
       " 24.39,\n",
       " 40.26,\n",
       " 32.95,\n",
       " 91.36,\n",
       " 25.99,\n",
       " 39.42,\n",
       " 26.71,\n",
       " 35)"
      ]
     },
     "execution_count": 11,
     "metadata": {},
     "output_type": "execute_result"
    }
   ],
   "source": [
    "values"
   ]
  },
  {
   "cell_type": "code",
   "execution_count": 14,
   "id": "834ca313",
   "metadata": {},
   "outputs": [
    {
     "data": {
      "image/png": "[encoded data removed]",
      "text/plain": [
       "<Figure size 432x288 with 1 Axes>"
      ]
     },
     "metadata": {},
     "output_type": "display_data"
    },
    {
     "data": {
      "text/plain": [
       "<Figure size 432x576 with 0 Axes>"
      ]
     },
     "execution_count": 14,
     "metadata": {},
     "output_type": "execute_result"
    },
    {
     "data": {
      "text/plain": [
       "<Figure size 432x576 with 0 Axes>"
      ]
     },
     "metadata": {},
     "output_type": "display_data"
    }
   ],
   "source": [
    "plt.pie(values,labels=Names)\n",
    "plt.show()\n",
    "plt.figure(figsize=(6,8))"
   ]
  },
  {
   "cell_type": "markdown",
   "id": "e059f45a",
   "metadata": {},
   "source": [
    "# Set2 "
   ]
  },
  {
   "cell_type": "code",
   "execution_count": 8,
   "id": "a05acd26",
   "metadata": {},
   "outputs": [],
   "source": [
    "Q1 = 1- stats.norm.cdf(0.625)"
   ]
  },
  {
   "cell_type": "code",
   "execution_count": 9,
   "id": "3917ddfa",
   "metadata": {},
   "outputs": [
    {
     "data": {
      "text/plain": [
       "0.26598552904870054"
      ]
     },
     "execution_count": 9,
     "metadata": {},
     "output_type": "execute_result"
    }
   ],
   "source": [
    "Q1"
   ]
  },
  {
   "cell_type": "code",
   "execution_count": 10,
   "id": "d094d734",
   "metadata": {},
   "outputs": [],
   "source": [
    "#P(X>44) = employes older than 44\n",
    "Q2  = 1-stats.norm.cdf(44,loc=38,scale=6)"
   ]
  },
  {
   "cell_type": "code",
   "execution_count": 11,
   "id": "f1ec3201",
   "metadata": {},
   "outputs": [
    {
     "data": {
      "text/plain": [
       "0.15865525393145707"
      ]
     },
     "execution_count": 11,
     "metadata": {},
     "output_type": "execute_result"
    }
   ],
   "source": [
    "Q2"
   ]
  },
  {
   "cell_type": "code",
   "execution_count": 12,
   "id": "962b5ced",
   "metadata": {},
   "outputs": [],
   "source": [
    "#P(38<x<44) = employes which are between 38 &44\n",
    "Q2= stats.norm.cdf(44,loc=38,scale=6)-stats.norm.cdf(38,loc=38,scale=6)\n"
   ]
  },
  {
   "cell_type": "code",
   "execution_count": 13,
   "id": "d2d9a97a",
   "metadata": {},
   "outputs": [
    {
     "data": {
      "text/plain": [
       "0.3413447460685429"
      ]
     },
     "execution_count": 13,
     "metadata": {},
     "output_type": "execute_result"
    }
   ],
   "source": [
    "Q2"
   ]
  },
  {
   "cell_type": "code",
   "execution_count": 15,
   "id": "8758f4d4",
   "metadata": {},
   "outputs": [],
   "source": [
    "#P(x<30) = employes under 30 yrs \n",
    "Q2b = stats.norm.cdf(30,38,6)\n"
   ]
  },
  {
   "cell_type": "code",
   "execution_count": 16,
   "id": "3bc8dca2",
   "metadata": {},
   "outputs": [
    {
     "data": {
      "text/plain": [
       "0.09121121972586788"
      ]
     },
     "execution_count": 16,
     "metadata": {},
     "output_type": "execute_result"
    }
   ],
   "source": [
    "Q2b"
   ]
  },
  {
   "cell_type": "code",
   "execution_count": 17,
   "id": "111c482c",
   "metadata": {},
   "outputs": [],
   "source": [
    "final = Q2b*400"
   ]
  },
  {
   "cell_type": "code",
   "execution_count": 18,
   "id": "6b3790c8",
   "metadata": {},
   "outputs": [
    {
     "data": {
      "text/plain": [
       "36.484487890347154"
      ]
     },
     "execution_count": 18,
     "metadata": {},
     "output_type": "execute_result"
    }
   ],
   "source": [
    "final"
   ]
  },
  {
   "cell_type": "code",
   "execution_count": null,
   "id": "b157ca67",
   "metadata": {},
   "outputs": [],
   "source": [
    "#Q4"
   ]
  },
  {
   "cell_type": "code",
   "execution_count": 55,
   "id": "348aaef0",
   "metadata": {},
   "outputs": [
    {
     "data": {
      "text/plain": [
       "219.12010804637984"
      ]
     },
     "execution_count": 55,
     "metadata": {},
     "output_type": "execute_result"
    }
   ],
   "source": [
    "stats.norm.ppf(0.025,45*5,3)"
   ]
  },
  {
   "cell_type": "code",
   "execution_count": 56,
   "id": "32a866a0",
   "metadata": {},
   "outputs": [
    {
     "data": {
      "text/plain": [
       "230.87989195362016"
      ]
     },
     "execution_count": 56,
     "metadata": {},
     "output_type": "execute_result"
    }
   ],
   "source": [
    "stats.norm.ppf(0.975,45*5,3)"
   ]
  },
  {
   "cell_type": "code",
   "execution_count": 57,
   "id": "60cc6f01",
   "metadata": {},
   "outputs": [
    {
     "data": {
      "text/plain": [
       "307.1601440618398"
      ]
     },
     "execution_count": 57,
     "metadata": {},
     "output_type": "execute_result"
    }
   ],
   "source": [
    "stats.norm.ppf(0.025,45*7,4)"
   ]
  },
  {
   "cell_type": "code",
   "execution_count": 58,
   "id": "a7978a2b",
   "metadata": {},
   "outputs": [
    {
     "data": {
      "text/plain": [
       "322.8398559381602"
      ]
     },
     "execution_count": 58,
     "metadata": {},
     "output_type": "execute_result"
    }
   ],
   "source": [
    "stats.norm.ppf(0.975,45*7,4)"
   ]
  },
  {
   "cell_type": "code",
   "execution_count": null,
   "id": "e6b19c87",
   "metadata": {},
   "outputs": [],
   "source": [
    "#Q5b"
   ]
  },
  {
   "cell_type": "code",
   "execution_count": 59,
   "id": "287c433d",
   "metadata": {},
   "outputs": [
    {
     "data": {
      "text/plain": [
       "-1.6448536269514729"
      ]
     },
     "execution_count": 59,
     "metadata": {},
     "output_type": "execute_result"
    }
   ],
   "source": [
    "stats.norm.ppf(0.05)"
   ]
  },
  {
   "cell_type": "code",
   "execution_count": 60,
   "id": "60014853",
   "metadata": {},
   "outputs": [
    {
     "name": "stdout",
     "output_type": "stream",
     "text": [
      "5th percentile of profit (in Million Rupees) is 170.0\n"
     ]
    }
   ],
   "source": [
    "#To compute 5th Percentile, we use the formula X=μ + Zσ; wherein from z table, 5 percentile = -1.645\n",
    "X= 540+(-1.645)*(225)\n",
    "print('5th percentile of profit (in Million Rupees) is',np.round(X,))"
   ]
  },
  {
   "cell_type": "code",
   "execution_count": 61,
   "id": "3e41eb91",
   "metadata": {},
   "outputs": [
    {
     "data": {
      "text/plain": [
       "0.0477903522728147"
      ]
     },
     "execution_count": 61,
     "metadata": {},
     "output_type": "execute_result"
    }
   ],
   "source": [
    "#Q5c\n",
    "#probability of making a loss for division 1 \n",
    "stats.norm.cdf(0,5,3)"
   ]
  },
  {
   "cell_type": "code",
   "execution_count": 62,
   "id": "291e08bd",
   "metadata": {},
   "outputs": [
    {
     "data": {
      "text/plain": [
       "0.040059156863817086"
      ]
     },
     "execution_count": 62,
     "metadata": {},
     "output_type": "execute_result"
    }
   ],
   "source": [
    "#probability of making a loss for division 2\n",
    "stats.norm.cdf(0,7,4)"
   ]
  },
  {
   "cell_type": "code",
   "execution_count": null,
   "id": "6232bbbb",
   "metadata": {},
   "outputs": [],
   "source": [
    "# hence divisions 1 has a larger probability of making a loss in a given year"
   ]
  },
  {
   "cell_type": "markdown",
   "id": "49f64f3e",
   "metadata": {},
   "source": [
    "# set3"
   ]
  },
  {
   "cell_type": "code",
   "execution_count": 3,
   "id": "43e5b4c5",
   "metadata": {},
   "outputs": [],
   "source": [
    "# Q5.1 # Assume  Null hypothesis as H0= p>=5% market share \n",
    "#Thus Alternate hypothesis as Ha=p<5% market share\n",
    "z_score=(0.046-0.05)/(np.sqrt((0.05*(1-0.05))/2000))"
   ]
  },
  {
   "cell_type": "code",
   "execution_count": 4,
   "id": "a7b0c5ef",
   "metadata": {},
   "outputs": [
    {
     "data": {
      "text/plain": [
       "-0.820782681668124"
      ]
     },
     "execution_count": 4,
     "metadata": {},
     "output_type": "execute_result"
    }
   ],
   "source": [
    "z_score"
   ]
  },
  {
   "cell_type": "code",
   "execution_count": 5,
   "id": "60fd4b26",
   "metadata": {},
   "outputs": [
    {
     "data": {
      "text/plain": [
       "0.20588503245107104"
      ]
     },
     "execution_count": 5,
     "metadata": {},
     "output_type": "execute_result"
    }
   ],
   "source": [
    "#Q5.2\n",
    "p_value = 1-stats.norm.cdf(abs(z_score))\n",
    "p_value"
   ]
  },
  {
   "cell_type": "code",
   "execution_count": null,
   "id": "fec59cf3",
   "metadata": {},
   "outputs": [],
   "source": []
  }
 ],
 "metadata": {
  "kernelspec": {
   "display_name": "Python 3 (ipykernel)",
   "language": "python",
   "name": "python3"
  },
  "language_info": {
   "codemirror_mode": {
    "name": "ipython",
    "version": 3
   },
   "file_extension": ".py",
   "mimetype": "text/x-python",
   "name": "python",
   "nbconvert_exporter": "python",
   "pygments_lexer": "ipython3",
   "version": "3.9.7"
  }
 },
 "nbformat": 4,
 "nbformat_minor": 5
}
